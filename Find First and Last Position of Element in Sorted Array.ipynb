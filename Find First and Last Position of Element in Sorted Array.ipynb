{
 "cells": [
  {
   "cell_type": "code",
   "execution_count": null,
   "id": "60d0cf40",
   "metadata": {},
   "outputs": [],
   "source": [
    "def searchRange(nums: list, target: int) -> list:\n",
    "    \"\"\"\n",
    "    Формирует список из индексов первого и последнего вхождения целевого значения в сортированный список\n",
    "    params nums: сортированный по возрастанию список\n",
    "    params target: целевое значение\n",
    "    return: список\n",
    "    \"\"\"\n",
    "    lst = []\n",
    "    lst_out = []\n",
    "\n",
    "    if target not in nums:\n",
    "        lst_out = [-1, -1]\n",
    "\n",
    "    else:\n",
    "        for i, j in enumerate(nums):\n",
    "            if j == target:\n",
    "                lst.append(i)\n",
    "        lst_out = [min(lst), max(lst)]\n",
    "\n",
    "    return lst_out"
   ]
  }
 ],
 "metadata": {
  "kernelspec": {
   "display_name": "Python 3 (ipykernel)",
   "language": "python",
   "name": "python3"
  },
  "language_info": {
   "codemirror_mode": {
    "name": "ipython",
    "version": 3
   },
   "file_extension": ".py",
   "mimetype": "text/x-python",
   "name": "python",
   "nbconvert_exporter": "python",
   "pygments_lexer": "ipython3",
   "version": "3.9.12"
  },
  "toc": {
   "base_numbering": 1,
   "nav_menu": {},
   "number_sections": true,
   "sideBar": true,
   "skip_h1_title": false,
   "title_cell": "Table of Contents",
   "title_sidebar": "Contents",
   "toc_cell": false,
   "toc_position": {},
   "toc_section_display": true,
   "toc_window_display": false
  }
 },
 "nbformat": 4,
 "nbformat_minor": 5
}
