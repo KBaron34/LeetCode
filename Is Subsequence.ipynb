{
 "cells": [
  {
   "cell_type": "code",
   "execution_count": null,
   "id": "27c995ef",
   "metadata": {},
   "outputs": [],
   "source": [
    "def isSubsequence(self, s: str, t: str) -> bool:\n",
    "    \"\"\"\n",
    "    Определяет является ли строка s подстрокой строки t\n",
    "    params s: строка\n",
    "    params t: строка\n",
    "    return: булево значение\n",
    "    \"\"\"\n",
    "    k = 0\n",
    "    for i in t:\n",
    "        for j in s:\n",
    "            if j == i:\n",
    "                k += 1\n",
    "                t = t[(t.index(i)+1):]\n",
    "    if k == len(s):\n",
    "        return True\n",
    "    else:\n",
    "        return False"
   ]
  }
 ],
 "metadata": {
  "kernelspec": {
   "display_name": "Python 3 (ipykernel)",
   "language": "python",
   "name": "python3"
  },
  "language_info": {
   "codemirror_mode": {
    "name": "ipython",
    "version": 3
   },
   "file_extension": ".py",
   "mimetype": "text/x-python",
   "name": "python",
   "nbconvert_exporter": "python",
   "pygments_lexer": "ipython3",
   "version": "3.9.12"
  },
  "toc": {
   "base_numbering": 1,
   "nav_menu": {},
   "number_sections": true,
   "sideBar": true,
   "skip_h1_title": false,
   "title_cell": "Table of Contents",
   "title_sidebar": "Contents",
   "toc_cell": false,
   "toc_position": {},
   "toc_section_display": true,
   "toc_window_display": false
  }
 },
 "nbformat": 4,
 "nbformat_minor": 5
}
