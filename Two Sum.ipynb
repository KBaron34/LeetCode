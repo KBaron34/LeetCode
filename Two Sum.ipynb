{
 "cells": [
  {
   "cell_type": "code",
   "execution_count": null,
   "id": "af66f0f8",
   "metadata": {},
   "outputs": [],
   "source": [
    "def twosum(nums: list[int], target: int) -> list[int]:\n",
    "    lst = []\n",
    "    j = 0\n",
    "    for i in range(len(nums)):\n",
    "        j = i + 1\n",
    "        while j <= (len(nums)-1):\n",
    "            if nums[i] + nums[j] == target:\n",
    "                lst.append(i)\n",
    "                lst.append(j)\n",
    "                break\n",
    "            else:\n",
    "                j += 1\n",
    "    return lst"
   ]
  }
 ],
 "metadata": {
  "kernelspec": {
   "display_name": "Python 3 (ipykernel)",
   "language": "python",
   "name": "python3"
  },
  "language_info": {
   "codemirror_mode": {
    "name": "ipython",
    "version": 3
   },
   "file_extension": ".py",
   "mimetype": "text/x-python",
   "name": "python",
   "nbconvert_exporter": "python",
   "pygments_lexer": "ipython3",
   "version": "3.9.12"
  },
  "toc": {
   "base_numbering": 1,
   "nav_menu": {},
   "number_sections": true,
   "sideBar": true,
   "skip_h1_title": false,
   "title_cell": "Table of Contents",
   "title_sidebar": "Contents",
   "toc_cell": false,
   "toc_position": {},
   "toc_section_display": true,
   "toc_window_display": false
  }
 },
 "nbformat": 4,
 "nbformat_minor": 5
}
