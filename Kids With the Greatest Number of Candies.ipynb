{
 "cells": [
  {
   "cell_type": "code",
   "execution_count": null,
   "id": "f8d0276c",
   "metadata": {},
   "outputs": [],
   "source": [
    "def kidsWithCandies(self, candies: list[int], extraCandies: int) -> list[bool]:\n",
    "    \"\"\"\n",
    "    Создает список булевых значений удовлетворяющих условию\n",
    "    params candies: список чисел\n",
    "    params extraCandies: список чисел\n",
    "    return: список булевых значений\n",
    "    \"\"\"\n",
    "    lst = []\n",
    "    for i in candies:\n",
    "        k = 0\n",
    "        k = i + extraCandies\n",
    "        if k >= max(candies):\n",
    "            lst.append(True)\n",
    "        else:\n",
    "            lst.append(False) \n",
    "    return lst"
   ]
  }
 ],
 "metadata": {
  "kernelspec": {
   "display_name": "Python 3 (ipykernel)",
   "language": "python",
   "name": "python3"
  },
  "language_info": {
   "codemirror_mode": {
    "name": "ipython",
    "version": 3
   },
   "file_extension": ".py",
   "mimetype": "text/x-python",
   "name": "python",
   "nbconvert_exporter": "python",
   "pygments_lexer": "ipython3",
   "version": "3.9.12"
  },
  "toc": {
   "base_numbering": 1,
   "nav_menu": {},
   "number_sections": true,
   "sideBar": true,
   "skip_h1_title": false,
   "title_cell": "Table of Contents",
   "title_sidebar": "Contents",
   "toc_cell": false,
   "toc_position": {},
   "toc_section_display": true,
   "toc_window_display": false
  }
 },
 "nbformat": 4,
 "nbformat_minor": 5
}
