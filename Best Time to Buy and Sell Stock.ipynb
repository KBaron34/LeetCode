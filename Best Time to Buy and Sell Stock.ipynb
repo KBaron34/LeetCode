{
 "cells": [
  {
   "cell_type": "code",
   "execution_count": null,
   "id": "ce9fa44e",
   "metadata": {},
   "outputs": [],
   "source": [
    "def maxProfit(self, prices: list[int]) -> int:\n",
    "    \"\"\"\n",
    "    Находит максимальную разность в списке между большим числом и\n",
    "    оставшимися слева от него\n",
    "    params prices: список\n",
    "    return: число\n",
    "    \"\"\"\n",
    "    maxi = 0\n",
    "    left = 0\n",
    "    for i in range(0, len(prices)):\n",
    "        if prices[i] <= prices[left]:\n",
    "            left = i\n",
    "        maxi = max(maxi, prices[i] - prices[left])\n",
    "    return maxi"
   ]
  }
 ],
 "metadata": {
  "kernelspec": {
   "display_name": "Python 3 (ipykernel)",
   "language": "python",
   "name": "python3"
  },
  "language_info": {
   "codemirror_mode": {
    "name": "ipython",
    "version": 3
   },
   "file_extension": ".py",
   "mimetype": "text/x-python",
   "name": "python",
   "nbconvert_exporter": "python",
   "pygments_lexer": "ipython3",
   "version": "3.9.12"
  },
  "toc": {
   "base_numbering": 1,
   "nav_menu": {},
   "number_sections": true,
   "sideBar": true,
   "skip_h1_title": false,
   "title_cell": "Table of Contents",
   "title_sidebar": "Contents",
   "toc_cell": false,
   "toc_position": {},
   "toc_section_display": true,
   "toc_window_display": false
  }
 },
 "nbformat": 4,
 "nbformat_minor": 5
}
