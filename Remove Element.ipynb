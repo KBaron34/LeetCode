{
 "cells": [
  {
   "cell_type": "code",
   "execution_count": null,
   "id": "748a8a18",
   "metadata": {},
   "outputs": [],
   "source": [
    "def removeElement(self, nums: List[int], val: int) -> int:\n",
    "    \"\"\"\n",
    "    Удаляет заданный элемент, который входит в список и возвращает\n",
    "    оставшееся число элементов\n",
    "    :param nums: список\n",
    "    :param val: заданный элемент\n",
    "    :return: число \n",
    "    \"\"\"\n",
    "    k = 0\n",
    "    lst = []\n",
    "    for i in nums:\n",
    "        if i != val:\n",
    "        k += 1\n",
    "    else:\n",
    "        lst.append(i)\n",
    "    for i in lst:\n",
    "        nums.remove(i)\n",
    "    return k"
   ]
  }
 ],
 "metadata": {
  "kernelspec": {
   "display_name": "Python 3 (ipykernel)",
   "language": "python",
   "name": "python3"
  },
  "language_info": {
   "codemirror_mode": {
    "name": "ipython",
    "version": 3
   },
   "file_extension": ".py",
   "mimetype": "text/x-python",
   "name": "python",
   "nbconvert_exporter": "python",
   "pygments_lexer": "ipython3",
   "version": "3.9.12"
  },
  "toc": {
   "base_numbering": 1,
   "nav_menu": {},
   "number_sections": true,
   "sideBar": true,
   "skip_h1_title": false,
   "title_cell": "Table of Contents",
   "title_sidebar": "Contents",
   "toc_cell": false,
   "toc_position": {},
   "toc_section_display": true,
   "toc_window_display": false
  }
 },
 "nbformat": 4,
 "nbformat_minor": 5
}
