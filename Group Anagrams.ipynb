{
 "cells": [
  {
   "cell_type": "code",
   "execution_count": null,
   "id": "07fdc6e4",
   "metadata": {},
   "outputs": [],
   "source": [
    "def groupAnagrams(strs: list(str)) -> list:\n",
    "    \"\"\"\n",
    "    Создает список анаграмм из заданного списка слов\n",
    "    params strs: список слов\n",
    "    return: список анаграмм\n",
    "    \"\"\"\n",
    "    d = {}\n",
    "    lst = []\n",
    "    lst_out = []\n",
    "    for i in strs:\n",
    "        i = \"\".join(sorted(i))\n",
    "        d[i] = \"\"\n",
    "    for j in d:\n",
    "        lst = []\n",
    "        for i in strs:\n",
    "            if \"\".join(sorted(i)) == j:\n",
    "                lst.append(i)\n",
    "        d[j] = [lst]\n",
    "    for i in d.values():\n",
    "        lst_out.append(*i)\n",
    "    return lst_out"
   ]
  }
 ],
 "metadata": {
  "kernelspec": {
   "display_name": "Python 3 (ipykernel)",
   "language": "python",
   "name": "python3"
  },
  "language_info": {
   "codemirror_mode": {
    "name": "ipython",
    "version": 3
   },
   "file_extension": ".py",
   "mimetype": "text/x-python",
   "name": "python",
   "nbconvert_exporter": "python",
   "pygments_lexer": "ipython3",
   "version": "3.9.12"
  },
  "toc": {
   "base_numbering": 1,
   "nav_menu": {},
   "number_sections": true,
   "sideBar": true,
   "skip_h1_title": false,
   "title_cell": "Table of Contents",
   "title_sidebar": "Contents",
   "toc_cell": false,
   "toc_position": {},
   "toc_section_display": true,
   "toc_window_display": false
  }
 },
 "nbformat": 4,
 "nbformat_minor": 5
}
