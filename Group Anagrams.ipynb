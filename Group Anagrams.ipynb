{
 "cells": [
  {
   "cell_type": "code",
   "execution_count": null,
   "id": "07fdc6e4",
   "metadata": {},
   "outputs": [],
   "source": [
    "def groupAnagrams(strs: list(str)) -> list:\n",
    "    \"\"\"\n",
    "    Создает список анаграмм из заданного списка слов\n",
    "    params strs: список слов\n",
    "    return: список анаграмм\n",
    "    \"\"\"\n",
    "    d = {}\n",
    "        \n",
    "    for i in strs:\n",
    "        i_lst = \"\".join(sorted(i))\n",
    "\n",
    "        if i_lst in d:\n",
    "            d[i_lst].append(i)\n",
    "        else:\n",
    "            d[i_lst] = [i]\n",
    "\n",
    "    return list(d.values())"
   ]
  }
 ],
 "metadata": {
  "kernelspec": {
   "display_name": "Python 3 (ipykernel)",
   "language": "python",
   "name": "python3"
  },
  "language_info": {
   "codemirror_mode": {
    "name": "ipython",
    "version": 3
   },
   "file_extension": ".py",
   "mimetype": "text/x-python",
   "name": "python",
   "nbconvert_exporter": "python",
   "pygments_lexer": "ipython3",
   "version": "3.9.12"
  },
  "toc": {
   "base_numbering": 1,
   "nav_menu": {},
   "number_sections": true,
   "sideBar": true,
   "skip_h1_title": false,
   "title_cell": "Table of Contents",
   "title_sidebar": "Contents",
   "toc_cell": false,
   "toc_position": {},
   "toc_section_display": true,
   "toc_window_display": false
  }
 },
 "nbformat": 4,
 "nbformat_minor": 5
}
