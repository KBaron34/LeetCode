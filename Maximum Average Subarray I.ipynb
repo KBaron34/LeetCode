{
 "cells": [
  {
   "cell_type": "code",
   "execution_count": null,
   "id": "cc0f44a2",
   "metadata": {},
   "outputs": [],
   "source": [
    "def findMaxAverage(self, nums: list[int], k: int) -> float:\n",
    "    \"\"\"\n",
    "    Находит максомальное среднее из заданного среза в списке\n",
    "    params list: список\n",
    "    params k: число\n",
    "    return: число\n",
    "    \"\"\"\n",
    "    avg1 = 0\n",
    "    avg2 = 0\n",
    "    i = 0\n",
    "    j = k\n",
    "    if len(nums) == 1:\n",
    "        return nums[0]\n",
    "    while ((len(nums) - i) != k) and (avg1 <= avg2):\n",
    "        avg2 = sum(nums[i:j])/k\n",
    "        avg1 = avg2\n",
    "        i += 1\n",
    "        j += 1\n",
    "    return avg1"
   ]
  }
 ],
 "metadata": {
  "kernelspec": {
   "display_name": "Python 3 (ipykernel)",
   "language": "python",
   "name": "python3"
  },
  "language_info": {
   "codemirror_mode": {
    "name": "ipython",
    "version": 3
   },
   "file_extension": ".py",
   "mimetype": "text/x-python",
   "name": "python",
   "nbconvert_exporter": "python",
   "pygments_lexer": "ipython3",
   "version": "3.9.12"
  },
  "toc": {
   "base_numbering": 1,
   "nav_menu": {},
   "number_sections": true,
   "sideBar": true,
   "skip_h1_title": false,
   "title_cell": "Table of Contents",
   "title_sidebar": "Contents",
   "toc_cell": false,
   "toc_position": {},
   "toc_section_display": true,
   "toc_window_display": false
  }
 },
 "nbformat": 4,
 "nbformat_minor": 5
}
